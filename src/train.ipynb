{
 "cells": [
  {
   "cell_type": "code",
   "execution_count": null,
   "id": "36c4f336",
   "metadata": {},
   "outputs": [],
   "source": [
    "import re, json"
   ]
  },
  {
   "cell_type": "code",
   "execution_count": 60,
   "id": "1f4a2d01",
   "metadata": {},
   "outputs": [],
   "source": [
    "def split_answers(pair):\n",
    "    # split by calculator statements\n",
    "    pair['answer'] = re.split(r'<<.*>>', pair['answer'])\n",
    "    return pair"
   ]
  },
  {
   "cell_type": "code",
   "execution_count": 61,
   "id": "0e79d7d9",
   "metadata": {},
   "outputs": [],
   "source": [
    "with open(\"../gsm/grade_school_math/data/train.jsonl\", mode='r') as f:\n",
    "    data = [json.loads(line) for line in f]\n",
    "data = [split_answers(pair) for pair in data]"
   ]
  },
  {
   "cell_type": "code",
   "execution_count": 66,
   "id": "9ab48526",
   "metadata": {},
   "outputs": [],
   "source": [
    "prompt = '''You are a helpful and intelligent assistant. You will be asked a \\\n",
    "math problem. Please think step by step, and indicate your answer with four \\\n",
    "hashtags. Here is an example exchange:\n",
    "\n",
    "Question: Every day, Adam eats twice as many sandwiches as he ate on the previous day. \\\n",
    "If he ate 3 sandwiches on Wednesday, how many total sandwiches did he eat by end of \\\n",
    "day Friday?\n",
    "\n",
    "Answer: If he ate 3 on Wednesday, then he ate 2 * 3 = 6 on Thursday, and 2 * 6 = 12 \\\n",
    "sandwiches on Friday.\n",
    "That is a total of 3 + 6 + 12 = 21 sandwiches.\n",
    "#### 21\n",
    "\n",
    "Now it's your turn.\n",
    "'''"
   ]
  },
  {
   "cell_type": "code",
   "execution_count": 67,
   "id": "9e6350b0",
   "metadata": {},
   "outputs": [
    {
     "name": "stdout",
     "output_type": "stream",
     "text": [
      "You are a helpful and intelligent assistant. You will be asked a math problem. Please think step by step, and indicate your answer with four hashtags. Here is an example exchange:\n",
      "\n",
      "Question: Every day, Adam eats twice as many sandwiches as he ate on the previous day. If he ate 3 sandwiches on Wednesday, how many total sandwiches did he eat by end of day Friday?\n",
      "\n",
      "Answer: If he ate 3 on Wednesday, then he ate 2 * 3 = 6 on Thursday, and 2 * 6 = 12 sandwiches on Friday.\n",
      "That is a total of 3 + 6 + 12 = 21 sandwiches.\n",
      "#### 21\n",
      "\n",
      "Now it's your turn.\n",
      "\n",
      "Question: Natalia sold clips to 48 of her friends in April, and then she sold half as many clips in May. How many clips did Natalia sell altogether in April and May?\n",
      "\n",
      "Answer: Natalia sold 48/2 = 24 clips in May.\n",
      "Natalia sold 48+24 = 72 clips altogether in April and May.\n",
      "#### 72\n"
     ]
    }
   ],
   "source": [
    "pair = data[0]\n",
    "print(f\"{prompt}\\nQuestion: {pair['question']}\\n\\nAnswer: {''.join(pair['answer'])}\")"
   ]
  },
  {
   "cell_type": "code",
   "execution_count": null,
   "id": "106b0b49",
   "metadata": {},
   "outputs": [],
   "source": []
  }
 ],
 "metadata": {
  "kernelspec": {
   "display_name": "Python 3",
   "language": "python",
   "name": "python3"
  },
  "language_info": {
   "codemirror_mode": {
    "name": "ipython",
    "version": 3
   },
   "file_extension": ".py",
   "mimetype": "text/x-python",
   "name": "python",
   "nbconvert_exporter": "python",
   "pygments_lexer": "ipython3",
   "version": "3.9.13"
  }
 },
 "nbformat": 4,
 "nbformat_minor": 5
}
