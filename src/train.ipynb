{
 "cells": [
  {
   "cell_type": "code",
   "execution_count": null,
   "id": "15e1700b",
   "metadata": {},
   "outputs": [],
   "source": [
    "from tqdm import tqdm, trange\n",
    "import torch\n",
    "import torch.optim as optim\n",
    "from torch.optim.lr_scheduler import CosineAnnealingWarmRestarts, LambdaLR, SequentialLR\n",
    "from torch.utils.data import DataLoader, random_split\n",
    "import wandb\n",
    "\n",
    "\n",
    "from gsm_dataset import GSMDataset, gsm_collate, gsm_prompt, sample\n",
    "from biscuit import Biscuit"
   ]
  },
  {
   "cell_type": "code",
   "execution_count": null,
   "id": "bad9c190",
   "metadata": {},
   "outputs": [],
   "source": [
    "biscuit_model = Biscuit()\n",
    "\n",
    "num_epochs = 10\n",
    "warmup_steps = 1e2\n",
    "learning_rate = 5e-5\n",
    "\n",
    "latent_optimizer = optim.AdamW([*biscuit_model.latent_trunk.parameters(), biscuit_model.bot_embedding, biscuit_model.eot_embedding],\n",
    "                               lr=learning_rate, weight_decay=0.01)\n",
    "latent_warmup_scheduler = LambdaLR(latent_optimizer, lr_lambda=lambda s: learning_rate * (s + 1) / (warmup_steps + 1))\n",
    "latent_cosine_scheduler = CosineAnnealingWarmRestarts(latent_optimizer, T_0=50, T_mult=1, eta_min=1e-5)\n",
    "latent_combined_scheduler = SequentialLR(latent_optimizer, schedulers=[latent_warmup_scheduler, latent_cosine_scheduler],\n",
    "                                         milestones=[warmup_steps])"
   ]
  },
  {
   "cell_type": "code",
   "execution_count": null,
   "id": "cdc7256d",
   "metadata": {},
   "outputs": [],
   "source": [
    "dataset = GSMDataset()\n",
    "\n",
    "train_size = int(0.9 * len(dataset))\n",
    "example_size = int(0.02 * len(dataset)) # reserve some data for few shot prompting\n",
    "test_size = len(dataset) - train_size - example_size\n",
    "\n",
    "train_dataset, example_dataset, test_dataset = random_split(dataset, [train_size, example_size, test_size])\n",
    "train_loader = DataLoader(train_dataset, batch_size=6, shuffle=True, collate_fn=gsm_collate)\n",
    "test_loader = DataLoader(test_dataset, batch_size=6, shuffle=True, collate_fn=gsm_collate)\n",
    "\n",
    "COT_MAX_LENGTH = 6\n",
    "run = wandb.init(project=\"biscuit\", name=\"two-trunk\")\n",
    "test_step = 0\n",
    "for epoch in trange(num_epochs, desc='Epoch'):\n",
    "    for segments, keep_indices_lst in tqdm(train_loader, desc=\"Batch\"):\n",
    "        examples = sample(example_dataset, num_samples=4)\n",
    "        latent_optimizer.zero_grad()\n",
    "        latent_loss = biscuit_model.compute_batch(gsm_prompt(examples), segments, keep_indices_lst, token_batch=False)\n",
    "        latent_loss.backward()\n",
    "        latent_optimizer.step()\n",
    "        latent_combined_scheduler.step()\n",
    "        wandb.log({\"latent_loss\": latent_loss.item()})\n",
    "\n",
    "    # compute test loss\n",
    "    for segments, keep_indices_lst in tqdm(test_loader, desc=\"Test Batch\"):\n",
    "        test_step += 1\n",
    "        examples = sample(example_dataset, num_samples=4)\n",
    "        with torch.no_grad():\n",
    "            latent_loss = biscuit_model.compute_batch(gsm_prompt(examples), segments, keep_indices_lst, token_batch=False)\n",
    "        wandb.log({\"test_step\": test_step, \"test_latent_loss\": latent_loss.item()})\n",
    "\n",
    "    # save checkpoint\n",
    "    artifact = wandb.Artifact('checkpoint', type='model')\n",
    "    latent_trunk_checkpoint_path = f'checkpoints/latent_trunk_epoch_{epoch}.pth'\n",
    "    torch.save(biscuit_model.latent_trunk.state_dict(), latent_trunk_checkpoint_path)\n",
    "    artifact.add_file(latent_trunk_checkpoint_path)\n",
    "    wandb.log_artifact(artifact)\n",
    "run.finish()"
   ]
  }
 ],
 "metadata": {
  "kernelspec": {
   "display_name": "biscuit-env",
   "language": "python",
   "name": "python3"
  },
  "language_info": {
   "codemirror_mode": {
    "name": "ipython",
    "version": 3
   },
   "file_extension": ".py",
   "mimetype": "text/x-python",
   "name": "python",
   "nbconvert_exporter": "python",
   "pygments_lexer": "ipython3",
   "version": "3.10.12"
  }
 },
 "nbformat": 4,
 "nbformat_minor": 5
}
