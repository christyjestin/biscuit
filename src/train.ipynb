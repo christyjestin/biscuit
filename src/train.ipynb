{
 "cells": [
  {
   "cell_type": "code",
   "execution_count": 1,
   "id": "15e1700b",
   "metadata": {},
   "outputs": [
    {
     "name": "stderr",
     "output_type": "stream",
     "text": [
      "/home/BOSDYN/cjestin/Research/biscuit/biscuit-env/lib/python3.10/site-packages/tqdm/auto.py:21: TqdmWarning: IProgress not found. Please update jupyter and ipywidgets. See https://ipywidgets.readthedocs.io/en/stable/user_install.html\n",
      "  from .autonotebook import tqdm as notebook_tqdm\n"
     ]
    }
   ],
   "source": [
    "from tqdm import tqdm, trange\n",
    "import torch\n",
    "import torch.optim as optim\n",
    "from torch.optim.lr_scheduler import CosineAnnealingWarmRestarts, LambdaLR, SequentialLR\n",
    "from torch.utils.data import DataLoader, random_split\n",
    "import wandb\n",
    "\n",
    "\n",
    "from gsm_dataset import GSMDataset, gsm_collate, gsm_prompt, sample\n",
    "from biscuit import Biscuit"
   ]
  },
  {
   "cell_type": "code",
   "execution_count": 2,
   "id": "bad9c190",
   "metadata": {},
   "outputs": [],
   "source": [
    "biscuit_model = Biscuit()\n",
    "\n",
    "num_epochs = 10\n",
    "warmup_steps = 1e2\n",
    "learning_rate = 5e-5\n",
    "\n",
    "token_optimizer = optim.AdamW(biscuit_model.token_trunk.parameters(), lr=learning_rate, weight_decay=0.01)\n",
    "token_warmup_scheduler = LambdaLR(token_optimizer, lr_lambda=lambda s: learning_rate * (s + 1) / (warmup_steps + 1))\n",
    "token_cosine_scheduler = CosineAnnealingWarmRestarts(token_optimizer, T_0=50, T_mult=1, eta_min=1e-5)\n",
    "token_combined_scheduler = SequentialLR(token_optimizer, schedulers=[token_warmup_scheduler, token_cosine_scheduler],\n",
    "                                        milestones=[warmup_steps])\n",
    "\n",
    "latent_optimizer = optim.AdamW(biscuit_model.latent_trunk.parameters(), lr=learning_rate, weight_decay=0.01)\n",
    "latent_warmup_scheduler = LambdaLR(latent_optimizer, lr_lambda=lambda s: learning_rate * (s + 1) / (warmup_steps + 1))\n",
    "latent_cosine_scheduler = CosineAnnealingWarmRestarts(latent_optimizer, T_0=50, T_mult=1, eta_min=1e-5)\n",
    "latent_combined_scheduler = SequentialLR(latent_optimizer, schedulers=[latent_warmup_scheduler, latent_cosine_scheduler],\n",
    "                                         milestones=[warmup_steps])"
   ]
  },
  {
   "cell_type": "code",
   "execution_count": null,
   "id": "cdc7256d",
   "metadata": {},
   "outputs": [
    {
     "name": "stderr",
     "output_type": "stream",
     "text": [
      "\u001b[34m\u001b[1mwandb\u001b[0m: Currently logged in as: \u001b[33mchristyjestin\u001b[0m to \u001b[32mhttps://api.wandb.ai\u001b[0m. Use \u001b[1m`wandb login --relogin`\u001b[0m to force relogin\n"
     ]
    },
    {
     "data": {
      "text/html": [
       "Tracking run with wandb version 0.19.11"
      ],
      "text/plain": [
       "<IPython.core.display.HTML object>"
      ]
     },
     "metadata": {},
     "output_type": "display_data"
    },
    {
     "data": {
      "text/html": [
       "Run data is saved locally in <code>/home/BOSDYN/cjestin/Research/biscuit/src/wandb/run-20250528_212202-i6p7b0hw</code>"
      ],
      "text/plain": [
       "<IPython.core.display.HTML object>"
      ]
     },
     "metadata": {},
     "output_type": "display_data"
    },
    {
     "data": {
      "text/html": [
       "Syncing run <strong><a href='https://wandb.ai/christyjestin/biscuit/runs/i6p7b0hw' target=\"_blank\">test</a></strong> to <a href='https://wandb.ai/christyjestin/biscuit' target=\"_blank\">Weights & Biases</a> (<a href='https://wandb.me/developer-guide' target=\"_blank\">docs</a>)<br>"
      ],
      "text/plain": [
       "<IPython.core.display.HTML object>"
      ]
     },
     "metadata": {},
     "output_type": "display_data"
    },
    {
     "data": {
      "text/html": [
       " View project at <a href='https://wandb.ai/christyjestin/biscuit' target=\"_blank\">https://wandb.ai/christyjestin/biscuit</a>"
      ],
      "text/plain": [
       "<IPython.core.display.HTML object>"
      ]
     },
     "metadata": {},
     "output_type": "display_data"
    },
    {
     "data": {
      "text/html": [
       " View run at <a href='https://wandb.ai/christyjestin/biscuit/runs/i6p7b0hw' target=\"_blank\">https://wandb.ai/christyjestin/biscuit/runs/i6p7b0hw</a>"
      ],
      "text/plain": [
       "<IPython.core.display.HTML object>"
      ]
     },
     "metadata": {},
     "output_type": "display_data"
    },
    {
     "name": "stderr",
     "output_type": "stream",
     "text": [
      "Batch:   0%|          | 0/3363 [00:02<?, ?it/s]\n",
      "Test Batch:   0%|          | 0/300 [00:00<?, ?it/s]\n",
      "Epoch:   0%|          | 0/10 [00:03<?, ?it/s]\n",
      "\u001b[34m\u001b[1mwandb\u001b[0m: \u001b[32m\u001b[41mERROR\u001b[0m The nbformat package was not found. It is required to save notebook history.\n"
     ]
    },
    {
     "data": {
      "text/html": [],
      "text/plain": [
       "<IPython.core.display.HTML object>"
      ]
     },
     "metadata": {},
     "output_type": "display_data"
    },
    {
     "data": {
      "text/html": [
       "<br>    <style><br>        .wandb-row {<br>            display: flex;<br>            flex-direction: row;<br>            flex-wrap: wrap;<br>            justify-content: flex-start;<br>            width: 100%;<br>        }<br>        .wandb-col {<br>            display: flex;<br>            flex-direction: column;<br>            flex-basis: 100%;<br>            flex: 1;<br>            padding: 10px;<br>        }<br>    </style><br><div class=\"wandb-row\"><div class=\"wandb-col\"><h3>Run history:</h3><br/><table class=\"wandb\"><tr><td>latent_loss</td><td>▁</td></tr><tr><td>test_latent_loss</td><td>▁</td></tr><tr><td>test_step</td><td>▁</td></tr><tr><td>test_token_loss</td><td>▁</td></tr><tr><td>token_loss</td><td>▁</td></tr></table><br/></div><div class=\"wandb-col\"><h3>Run summary:</h3><br/><table class=\"wandb\"><tr><td>latent_loss</td><td>2.71691</td></tr><tr><td>test_latent_loss</td><td>3.61977</td></tr><tr><td>test_step</td><td>1</td></tr><tr><td>test_token_loss</td><td>61.3125</td></tr><tr><td>token_loss</td><td>76.875</td></tr></table><br/></div></div>"
      ],
      "text/plain": [
       "<IPython.core.display.HTML object>"
      ]
     },
     "metadata": {},
     "output_type": "display_data"
    },
    {
     "data": {
      "text/html": [
       " View run <strong style=\"color:#cdcd00\">test</strong> at: <a href='https://wandb.ai/christyjestin/biscuit/runs/i6p7b0hw' target=\"_blank\">https://wandb.ai/christyjestin/biscuit/runs/i6p7b0hw</a><br> View project at: <a href='https://wandb.ai/christyjestin/biscuit' target=\"_blank\">https://wandb.ai/christyjestin/biscuit</a><br>Synced 5 W&B file(s), 0 media file(s), 0 artifact file(s) and 0 other file(s)"
      ],
      "text/plain": [
       "<IPython.core.display.HTML object>"
      ]
     },
     "metadata": {},
     "output_type": "display_data"
    },
    {
     "data": {
      "text/html": [
       "Find logs at: <code>./wandb/run-20250528_212202-i6p7b0hw/logs</code>"
      ],
      "text/plain": [
       "<IPython.core.display.HTML object>"
      ]
     },
     "metadata": {},
     "output_type": "display_data"
    }
   ],
   "source": [
    "dataset = GSMDataset()\n",
    "\n",
    "train_size = int(0.9 * len(dataset))\n",
    "example_size = int(0.02 * len(dataset)) # reserve some data for few shot prompting\n",
    "test_size = len(dataset) - train_size - example_size\n",
    "\n",
    "train_dataset, example_dataset, test_dataset = random_split(dataset, [train_size, example_size, test_size])\n",
    "train_loader = DataLoader(train_dataset, batch_size=6, shuffle=True, collate_fn=gsm_collate)\n",
    "test_loader = DataLoader(test_dataset, batch_size=6, shuffle=True, collate_fn=gsm_collate)\n",
    "\n",
    "COT_MAX_LENGTH = 6\n",
    "run = wandb.init(project=\"biscuit\", name=\"test\")\n",
    "train_step = 0\n",
    "test_step = 0\n",
    "token_loss_frequency = 10 # once every n steps\n",
    "for epoch in trange(num_epochs, desc='Epoch'):\n",
    "    for segments, keep_indices_lst in tqdm(train_loader, desc=\"Batch\"):\n",
    "        train_step += 1\n",
    "        examples = sample(example_dataset, num_samples=4)\n",
    "        latent_optimizer.zero_grad()\n",
    "        latent_loss = biscuit_model.compute_batch(gsm_prompt(examples), segments, keep_indices_lst, token_batch=False)\n",
    "        latent_loss.backward()\n",
    "        latent_optimizer.step()\n",
    "        latent_combined_scheduler.step()\n",
    "        wandb.log({\"latent_loss\": latent_loss.item()})\n",
    "\n",
    "        if train_step % token_loss_frequency == 1:\n",
    "            token_optimizer.zero_grad()\n",
    "            token_loss = biscuit_model.compute_batch(gsm_prompt(examples), segments, keep_indices_lst, token_batch=True)\n",
    "            token_loss.backward()\n",
    "            token_optimizer.step()\n",
    "            token_combined_scheduler.step()\n",
    "            wandb.log({\"token_loss\": token_loss.item()})\n",
    "\n",
    "    # compute test loss\n",
    "    for segments, keep_indices_lst in tqdm(test_loader, desc=\"Test Batch\"):\n",
    "        test_step += 1\n",
    "        examples = sample(example_dataset, num_samples=4)\n",
    "        with torch.no_grad():\n",
    "            token_loss = biscuit_model.compute_batch(gsm_prompt(examples), segments, keep_indices_lst, token_batch=True)\n",
    "            latent_loss = biscuit_model.compute_batch(gsm_prompt(examples), segments, keep_indices_lst, token_batch=False)\n",
    "        wandb.log({\"test_step\": test_step, \"test_token_loss\": token_loss.item(), \"test_latent_loss\": latent_loss.item()})\n",
    "\n",
    "    # save checkpoint\n",
    "    token_trunk_checkpoint_path = f'checkpoints/token_trunk_epoch_{epoch}.pth'\n",
    "    torch.save(biscuit_model.token_trunk.state_dict(), token_trunk_checkpoint_path)\n",
    "    artifact = wandb.Artifact('checkpoint', type='model')\n",
    "    artifact.add_file(token_trunk_checkpoint_path)\n",
    "    latent_trunk_checkpoint_path = f'checkpoints/latent_trunk_epoch_{epoch}.pth'\n",
    "    torch.save(biscuit_model.latent_trunk.state_dict(), latent_trunk_checkpoint_path)\n",
    "    artifact.add_file(latent_trunk_checkpoint_path)\n",
    "    wandb.log_artifact(artifact)\n",
    "run.finish()"
   ]
  }
 ],
 "metadata": {
  "kernelspec": {
   "display_name": "biscuit-env",
   "language": "python",
   "name": "python3"
  },
  "language_info": {
   "codemirror_mode": {
    "name": "ipython",
    "version": 3
   },
   "file_extension": ".py",
   "mimetype": "text/x-python",
   "name": "python",
   "nbconvert_exporter": "python",
   "pygments_lexer": "ipython3",
   "version": "3.10.12"
  }
 },
 "nbformat": 4,
 "nbformat_minor": 5
}
